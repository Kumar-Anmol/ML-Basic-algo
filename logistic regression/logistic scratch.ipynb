{
 "cells": [
  {
   "cell_type": "code",
   "execution_count": 1,
   "id": "ea61a9cb",
   "metadata": {},
   "outputs": [],
   "source": [
    "import numpy as np\n",
    "import pandas as pd\n",
    "import matplotlib.pyplot as plt\n",
    "%matplotlib inline\n",
    "df=pd.read_excel('week3ex2data1.xlsx')\n",
    "x=df[['A','B']]\n",
    "y=df['C']"
   ]
  },
  {
   "cell_type": "code",
   "execution_count": 2,
   "id": "52d4884e",
   "metadata": {},
   "outputs": [],
   "source": [
    "from sklearn.model_selection import train_test_split\n",
    "train_x, test_x, train_y, test_y=train_test_split(x,y,test_size=0.2, random_state=42)\n",
    "train_x= train_x.T\n",
    "train_y=train_y.T\n",
    "test_x=test_x.T\n",
    "test_y=test_y.T"
   ]
  },
  {
   "cell_type": "code",
   "execution_count": 3,
   "id": "f771a9d0",
   "metadata": {},
   "outputs": [],
   "source": [
    "def sigmoid(thtx):\n",
    "    return 1/(1+ np.exp(-thtx))\n",
    "def initialize_weigths_and_bias(dimension):\n",
    "    w = np.full((dimension,1), 0.01)\n",
    "    b = float(1)\n",
    "    return w,b\n",
    "\n",
    "def loss(train_y,y_head):\n",
    "    train_yy=pd.DataFrame(train_y)\n",
    "    one=np.ones(train_x.shape[1])\n",
    "    onee=np.ones((80,1))\n",
    "    loss= -train_yy* np.log(y_head).T-(onee-train_yy)*np.log(one-y_head).T\n",
    "    return loss"
   ]
  },
  {
   "cell_type": "code",
   "execution_count": 4,
   "id": "9cc15578",
   "metadata": {},
   "outputs": [],
   "source": [
    "alpha=0.001\n",
    "epoch =5000\n",
    "\n",
    "train_yyy=pd.DataFrame(train_y)\n",
    "w,b = initialize_weigths_and_bias(2)\n",
    "cost_list=[]\n",
    "\n",
    "for i in range(epoch):\n",
    "    g_para=np.dot(w.T,train_x)\n",
    "    g_para = np.array(g_para)\n",
    "    #print(type(b))\n",
    "    g_para += b\n",
    "    h_theta=sigmoid(g_para)\n",
    "    los=loss(train_y,h_theta)\n",
    "    cost=np.sum(los)/train_x.shape[1]\n",
    "    cost_list.append(cost)\n",
    "    dweight=(np.dot(train_x,h_theta.T-train_yyy))/train_x.shape[1]\n",
    "    dbias= (float)(np.sum(h_theta.T-train_yyy)/train_x.shape[1])\n",
    "    w=w-alpha*dweight\n",
    "    b=b-alpha*dbias\n",
    "    #print(\"Epoch:\", i, \"Loss:\", cost)"
   ]
  },
  {
   "cell_type": "code",
   "execution_count": null,
   "id": "577e4612",
   "metadata": {},
   "outputs": [],
   "source": []
  },
  {
   "cell_type": "code",
   "execution_count": null,
   "id": "daacec1a",
   "metadata": {},
   "outputs": [],
   "source": []
  },
  {
   "cell_type": "code",
   "execution_count": 5,
   "id": "50439578",
   "metadata": {},
   "outputs": [
    {
     "data": {
      "text/plain": [
       "[<matplotlib.lines.Line2D at 0x22a7c43f940>]"
      ]
     },
     "execution_count": 5,
     "metadata": {},
     "output_type": "execute_result"
    },
    {
     "data": {
      "image/png": "[encoded data removed]",
      "text/plain": [
       "<Figure size 432x288 with 1 Axes>"
      ]
     },
     "metadata": {
      "needs_background": "light"
     },
     "output_type": "display_data"
    }
   ],
   "source": [
    "xx=np.linspace(1,epoch, epoch)\n",
    "plt.plot(xx,cost_list)"
   ]
  },
  {
   "cell_type": "code",
   "execution_count": 6,
   "id": "f87fb84a",
   "metadata": {},
   "outputs": [],
   "source": [
    "\n",
    "y_prediction = np.zeros((1,test_x.shape[1]))\n",
    "gpara=np.dot(w.T,test_x)\n",
    "htheta=sigmoid(gpara)\n",
    "\n",
    "for i in range(htheta.shape[1]):\n",
    "    if htheta[0,i]<= 0.5:\n",
    "        y_prediction[0,i] = 0\n",
    "    else:\n",
    "        y_prediction[0,i] = 1\n"
   ]
  },
  {
   "cell_type": "code",
   "execution_count": 7,
   "id": "de03818c",
   "metadata": {},
   "outputs": [
    {
     "data": {
      "text/plain": [
       "0.7407407407407408"
      ]
     },
     "execution_count": 7,
     "metadata": {},
     "output_type": "execute_result"
    }
   ],
   "source": [
    "tp=0\n",
    "fp=0\n",
    "fn=0\n",
    "tn=0\n",
    "for i in range(test_x.shape[1]):\n",
    "    if(y_prediction[0,i]==0 and test_y.iloc[i]==0):\n",
    "        tn=tn+1\n",
    "    if(y_prediction[0,i]==0 and test_y.iloc[i]==1):\n",
    "        fn=fn+1\n",
    "    if(y_prediction[0,i]==1 and test_y.iloc[i]==0):\n",
    "        fp=fp+1\n",
    "    if(y_prediction[0,i]==1 and test_y.iloc[i]==1):\n",
    "        tp=tp+1\n",
    "tn,fn,fp,tp\n",
    "precision=tp/(tp+fp)\n",
    "recall=tp/(tp+fn)\n",
    "f1score=(2*precision*recall)/(precision+recall)\n",
    "f1score"
   ]
  },
  {
   "cell_type": "code",
   "execution_count": 8,
   "id": "bc6465c4",
   "metadata": {},
   "outputs": [],
   "source": [
    "# def sigmoid(thtx):\n",
    "#     return 1/(1+ np.exp(-thtx))\n",
    "# def initialize_weigths_and_bias(dimension):\n",
    "#     w = np.full((dimension,1), 0.01)\n",
    "#     b = float(1)\n",
    "#     return w,b\n",
    "\n",
    "# def loss(train_y,y_head):\n",
    "#     train_yy=pd.DataFrame(train_y)\n",
    "#     one=np.ones(train_x.shape[1])\n",
    "#     onee=np.ones((80,1))\n",
    "#     loss= -train_yy* np.log(y_head).T-(onee-train_yy)*np.log(one-y_head).T\n",
    "#     return loss\n",
    "# ans=0\n",
    "# for i in range(10):\n",
    "#     x=df[['A','B']]\n",
    "#     y=df['C']\n",
    "#     from sklearn.model_selection import train_test_split\n",
    "#     c=np.random.randint(1,100)\n",
    "#     train_x, test_x, train_y, test_y=train_test_split(x,y,test_size=0.2, random_state=c)\n",
    "#     train_x= train_x.T\n",
    "#     train_y=train_y.T\n",
    "#     test_x=test_x.T\n",
    "#     test_y=test_y.T\n",
    "#     alpha=0.001\n",
    "#     epoch = 10000\n",
    "\n",
    "#     train_yyy=pd.DataFrame(train_y)\n",
    "#     w,b = initialize_weigths_and_bias(2)\n",
    "#     cost_list=[]\n",
    "\n",
    "#     for i in range(epoch):\n",
    "#         g_para=np.dot(w.T,train_x)\n",
    "#         g_para = np.array(g_para)\n",
    "#         #print(type(b))\n",
    "#         g_para += b\n",
    "#         h_theta=sigmoid(g_para)\n",
    "#         los=loss(train_y,h_theta)\n",
    "#         cost=np.sum(los)/train_x.shape[1]\n",
    "#         cost_list.append(cost)\n",
    "#         dweight=(np.dot(train_x,h_theta.T-train_yyy))/train_x.shape[1]\n",
    "#         dbias= (float)(np.sum(h_theta.T-train_yyy)/train_x.shape[1])\n",
    "#         w=w-alpha*dweight\n",
    "#         b=b-alpha*dbias\n",
    "#         #print(\"Epoch:\", i, \"Loss:\", cost)\n",
    "#     y_prediction = np.zeros((1,test_x.shape[1]))\n",
    "#     gpara=np.dot(w.T,test_x)\n",
    "#     htheta=sigmoid(gpara)\n",
    "\n",
    "#     for i in range(py_head.shape[1]):\n",
    "#         if py_head[0,i]<= 0.5:\n",
    "#             y_prediction[0,i] = 0\n",
    "#         else:\n",
    "#             y_prediction[0,i] = 1\n",
    "#     tp=0\n",
    "#     fp=0\n",
    "#     fn=0\n",
    "#     tn=0\n",
    "#     for i in range(test_x.shape[1]):\n",
    "#         if(y_prediction[0,i]==0 and test_y.iloc[i]==0):\n",
    "#             tn=tn+1\n",
    "#         if(y_prediction[0,i]==0 and test_y.iloc[i]==1):\n",
    "#             fn=fn+1\n",
    "#         if(y_prediction[0,i]==1 and test_y.iloc[i]==0):\n",
    "#             fp=fp+1\n",
    "#         if(y_prediction[0,i]==1 and test_y.iloc[i]==1):\n",
    "#             tp=tp+1\n",
    "#     tn,fn,fp,tp\n",
    "#     precision=tp/(tp+fp)\n",
    "#     recall=tp/(tp+fn)\n",
    "#     f1score=(2*precision*recall)/(precision+recall)\n",
    "    \n",
    "#     ans=ans+f1score\n",
    "# ans/10   "
   ]
  },
  {
   "cell_type": "code",
   "execution_count": null,
   "id": "afea423a",
   "metadata": {},
   "outputs": [],
   "source": []
  }
 ],
 "metadata": {
  "kernelspec": {
   "display_name": "Python 3 (ipykernel)",
   "language": "python",
   "name": "python3"
  },
  "language_info": {
   "codemirror_mode": {
    "name": "ipython",
    "version": 3
   },
   "file_extension": ".py",
   "mimetype": "text/x-python",
   "name": "python",
   "nbconvert_exporter": "python",
   "pygments_lexer": "ipython3",
   "version": "3.9.7"
  }
 },
 "nbformat": 4,
 "nbformat_minor": 5
}
