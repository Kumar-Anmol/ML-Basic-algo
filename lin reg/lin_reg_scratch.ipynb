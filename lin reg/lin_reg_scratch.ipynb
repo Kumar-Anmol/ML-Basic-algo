{
 "cells": [
  {
   "cell_type": "markdown",
   "id": "20fed5fa",
   "metadata": {},
   "source": [
    "# Without using sklearn"
   ]
  },
  {
   "cell_type": "code",
   "execution_count": 1,
   "id": "18a927c4",
   "metadata": {},
   "outputs": [],
   "source": [
    "import numpy as np\n",
    "import pandas as pd\n",
    "import matplotlib.pyplot as plt\n",
    "%matplotlib inline"
   ]
  },
  {
   "cell_type": "code",
   "execution_count": 2,
   "id": "4f1524b3",
   "metadata": {},
   "outputs": [],
   "source": [
    "def eqn(t0,t1,x):\n",
    "    return t1*x+t0;\n",
    "def cost(ypr,yac):\n",
    "    return np.sum((ypr-yac)**2/(2*len(yac)));\n",
    "def hypo(ypr,yac,x):\n",
    "    return np.sum(x*(ypr-yac)/len(yac));"
   ]
  },
  {
   "cell_type": "code",
   "execution_count": 3,
   "id": "8b855c01",
   "metadata": {},
   "outputs": [],
   "source": [
    "data=pd.read_excel('book.xlsx')"
   ]
  },
  {
   "cell_type": "code",
   "execution_count": 4,
   "id": "903b0784",
   "metadata": {},
   "outputs": [
    {
     "data": {
      "text/plain": [
       "<matplotlib.collections.PathCollection at 0x139188dcbb0>"
      ]
     },
     "execution_count": 4,
     "metadata": {},
     "output_type": "execute_result"
    },
    {
     "data": {
      "image/png": "[encoded data removed]",
      "text/plain": [
       "<Figure size 432x288 with 1 Axes>"
      ]
     },
     "metadata": {
      "needs_background": "light"
     },
     "output_type": "display_data"
    }
   ],
   "source": [
    "x=data['A']\n",
    "y=data['B']\n",
    "plt.scatter(x,y)"
   ]
  },
  {
   "cell_type": "code",
   "execution_count": 5,
   "id": "719d2356",
   "metadata": {},
   "outputs": [],
   "source": [
    "t0=0\n",
    "t1=0\n",
    "j=[]\n",
    "alpha=0.001"
   ]
  },
  {
   "cell_type": "code",
   "execution_count": 6,
   "id": "720489a1",
   "metadata": {},
   "outputs": [
    {
     "data": {
      "text/plain": [
       "pandas.core.series.Series"
      ]
     },
     "execution_count": 6,
     "metadata": {},
     "output_type": "execute_result"
    }
   ],
   "source": [
    "for i in range(50):\n",
    "    yp=eqn(t0,t1,x)\n",
    "    j.append(cost(yp,y))\n",
    "    d0=hypo(yp,y,1)\n",
    "    d1=hypo(yp,y,x)\n",
    "    t0=t0-alpha*d0\n",
    "    t1=t1-alpha*d1\n",
    "type(y)"
   ]
  },
  {
   "cell_type": "code",
   "execution_count": 7,
   "id": "ea5a7d64",
   "metadata": {},
   "outputs": [
    {
     "data": {
      "text/plain": [
       "(0.038708725131181364, 0.7768476900632201)"
      ]
     },
     "execution_count": 7,
     "metadata": {},
     "output_type": "execute_result"
    }
   ],
   "source": [
    "t0,t1"
   ]
  },
  {
   "cell_type": "code",
   "execution_count": 8,
   "id": "16e672c7",
   "metadata": {},
   "outputs": [
    {
     "data": {
      "text/plain": [
       "[<matplotlib.lines.Line2D at 0x1391aa57940>]"
      ]
     },
     "execution_count": 8,
     "metadata": {},
     "output_type": "execute_result"
    },
    {
     "data": {
      "image/png": "[encoded data removed]",
      "text/plain": [
       "<Figure size 432x288 with 1 Axes>"
      ]
     },
     "metadata": {
      "needs_background": "light"
     },
     "output_type": "display_data"
    }
   ],
   "source": [
    "plt.scatter(x,y)\n",
    "plt.plot(x,yp,'r')"
   ]
  }
 ],
 "metadata": {
  "kernelspec": {
   "display_name": "Python 3 (ipykernel)",
   "language": "python",
   "name": "python3"
  },
  "language_info": {
   "codemirror_mode": {
    "name": "ipython",
    "version": 3
   },
   "file_extension": ".py",
   "mimetype": "text/x-python",
   "name": "python",
   "nbconvert_exporter": "python",
   "pygments_lexer": "ipython3",
   "version": "3.10.4"
  }
 },
 "nbformat": 4,
 "nbformat_minor": 5
}
